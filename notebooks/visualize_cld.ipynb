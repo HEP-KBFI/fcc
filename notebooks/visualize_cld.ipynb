{
 "cells": [
  {
   "cell_type": "code",
   "execution_count": 1,
   "metadata": {},
   "outputs": [],
   "source": [
    "import uproot\n",
    "import matplotlib.pyplot as plt"
   ]
  },
  {
   "cell_type": "code",
   "execution_count": 1,
   "metadata": {},
   "outputs": [
    {
     "ename": "NameError",
     "evalue": "name 'uproot' is not defined",
     "output_type": "error",
     "traceback": [
      "\u001b[0;31m---------------------------------------------------------------------------\u001b[0m",
      "\u001b[0;31mNameError\u001b[0m                                 Traceback (most recent call last)",
      "\u001b[0;32m<ipython-input-1-d0684622ea68>\u001b[0m in \u001b[0;36m<module>\u001b[0;34m\u001b[0m\n\u001b[0;32m----> 1\u001b[0;31m \u001b[0mfi\u001b[0m \u001b[0;34m=\u001b[0m \u001b[0muproot\u001b[0m\u001b[0;34m.\u001b[0m\u001b[0mopen\u001b[0m\u001b[0;34m(\u001b[0m\u001b[0;34m\"../out.root\"\u001b[0m\u001b[0;34m)\u001b[0m\u001b[0;34m\u001b[0m\u001b[0;34m\u001b[0m\u001b[0m\n\u001b[0m",
      "\u001b[0;31mNameError\u001b[0m: name 'uproot' is not defined"
     ]
    }
   ],
   "source": [
    "fi = uproot.open(\"../out.root\")"
   ]
  },
  {
   "cell_type": "code",
   "execution_count": 24,
   "metadata": {
    "scrolled": false
   },
   "outputs": [
    {
     "data": {
      "text/plain": [
       "['GenParticles',\n",
       " 'GenParticles/GenParticles.core.pdgId',\n",
       " 'GenParticles/GenParticles.core.charge',\n",
       " 'GenParticles/GenParticles.core.status',\n",
       " 'GenParticles/GenParticles.core.vertex.x',\n",
       " 'GenParticles/GenParticles.core.vertex.y',\n",
       " 'GenParticles/GenParticles.core.vertex.z',\n",
       " 'GenParticles/GenParticles.core.p4.mass',\n",
       " 'GenParticles/GenParticles.core.p4.px',\n",
       " 'GenParticles/GenParticles.core.p4.py',\n",
       " 'GenParticles/GenParticles.core.p4.pz',\n",
       " 'GenParticles/GenParticles.core.bits',\n",
       " 'GenParticles#0',\n",
       " 'GenParticles#0/GenParticles#0.index',\n",
       " 'GenParticles#0/GenParticles#0.collectionID',\n",
       " 'GenParticles#1',\n",
       " 'GenParticles#1/GenParticles#1.index',\n",
       " 'GenParticles#1/GenParticles#1.collectionID',\n",
       " 'GenVertices',\n",
       " 'GenVertices/GenVertices.position.x',\n",
       " 'GenVertices/GenVertices.position.y',\n",
       " 'GenVertices/GenVertices.position.z',\n",
       " 'GenVertices/GenVertices.ctau',\n",
       " 'trajectoryPoints',\n",
       " 'trajectoryPoints/trajectoryPoints.position.x',\n",
       " 'trajectoryPoints/trajectoryPoints.position.y',\n",
       " 'trajectoryPoints/trajectoryPoints.position.z',\n",
       " 'trajectoryPoints/trajectoryPoints.core.cellId',\n",
       " 'trajectoryPoints/trajectoryPoints.core.energy',\n",
       " 'trajectoryPoints/trajectoryPoints.core.time',\n",
       " 'trajectoryPoints/trajectoryPoints.core.bits',\n",
       " 'trajectory',\n",
       " 'trajectory/trajectory.core.cellId',\n",
       " 'trajectory/trajectory.core.energy',\n",
       " 'trajectory/trajectory.core.time',\n",
       " 'trajectory/trajectory.core.bits',\n",
       " 'simParticles',\n",
       " 'simParticles/simParticles.core.pdgId',\n",
       " 'simParticles/simParticles.core.charge',\n",
       " 'simParticles/simParticles.core.status',\n",
       " 'simParticles/simParticles.core.vertex.x',\n",
       " 'simParticles/simParticles.core.vertex.y',\n",
       " 'simParticles/simParticles.core.vertex.z',\n",
       " 'simParticles/simParticles.core.p4.mass',\n",
       " 'simParticles/simParticles.core.p4.px',\n",
       " 'simParticles/simParticles.core.p4.py',\n",
       " 'simParticles/simParticles.core.p4.pz',\n",
       " 'simParticles/simParticles.core.bits',\n",
       " 'simParticles#0',\n",
       " 'simParticles#0/simParticles#0.index',\n",
       " 'simParticles#0/simParticles#0.collectionID',\n",
       " 'simParticles#1',\n",
       " 'simParticles#1/simParticles#1.index',\n",
       " 'simParticles#1/simParticles#1.collectionID',\n",
       " 'simVertices',\n",
       " 'simVertices/simVertices.position.x',\n",
       " 'simVertices/simVertices.position.y',\n",
       " 'simVertices/simVertices.position.z',\n",
       " 'simVertices/simVertices.ctau',\n",
       " 'positionedHits_VXD_barrel',\n",
       " 'positionedHits_VXD_barrel/positionedHits_VXD_barrel.position.x',\n",
       " 'positionedHits_VXD_barrel/positionedHits_VXD_barrel.position.y',\n",
       " 'positionedHits_VXD_barrel/positionedHits_VXD_barrel.position.z',\n",
       " 'positionedHits_VXD_barrel/positionedHits_VXD_barrel.core.cellId',\n",
       " 'positionedHits_VXD_barrel/positionedHits_VXD_barrel.core.energy',\n",
       " 'positionedHits_VXD_barrel/positionedHits_VXD_barrel.core.time',\n",
       " 'positionedHits_VXD_barrel/positionedHits_VXD_barrel.core.bits',\n",
       " 'hits_VXD_barrel',\n",
       " 'hits_VXD_barrel/hits_VXD_barrel.core.cellId',\n",
       " 'hits_VXD_barrel/hits_VXD_barrel.core.energy',\n",
       " 'hits_VXD_barrel/hits_VXD_barrel.core.time',\n",
       " 'hits_VXD_barrel/hits_VXD_barrel.core.bits',\n",
       " 'digiHits_VXD_barrel',\n",
       " 'digiHits_VXD_barrel/digiHits_VXD_barrel.postStepPosition.x',\n",
       " 'digiHits_VXD_barrel/digiHits_VXD_barrel.postStepPosition.y',\n",
       " 'digiHits_VXD_barrel/digiHits_VXD_barrel.postStepPosition.z',\n",
       " 'digiHits_VXD_barrel#0',\n",
       " 'digiHits_VXD_barrel#0/digiHits_VXD_barrel#0.index',\n",
       " 'digiHits_VXD_barrel#0/digiHits_VXD_barrel#0.collectionID',\n",
       " 'positionedHits_VXD_endcap',\n",
       " 'positionedHits_VXD_endcap/positionedHits_VXD_endcap.position.x',\n",
       " 'positionedHits_VXD_endcap/positionedHits_VXD_endcap.position.y',\n",
       " 'positionedHits_VXD_endcap/positionedHits_VXD_endcap.position.z',\n",
       " 'positionedHits_VXD_endcap/positionedHits_VXD_endcap.core.cellId',\n",
       " 'positionedHits_VXD_endcap/positionedHits_VXD_endcap.core.energy',\n",
       " 'positionedHits_VXD_endcap/positionedHits_VXD_endcap.core.time',\n",
       " 'positionedHits_VXD_endcap/positionedHits_VXD_endcap.core.bits',\n",
       " 'hits_VXD_endcap',\n",
       " 'hits_VXD_endcap/hits_VXD_endcap.core.cellId',\n",
       " 'hits_VXD_endcap/hits_VXD_endcap.core.energy',\n",
       " 'hits_VXD_endcap/hits_VXD_endcap.core.time',\n",
       " 'hits_VXD_endcap/hits_VXD_endcap.core.bits',\n",
       " 'digiHits_VXD_endcap',\n",
       " 'digiHits_VXD_endcap/digiHits_VXD_endcap.postStepPosition.x',\n",
       " 'digiHits_VXD_endcap/digiHits_VXD_endcap.postStepPosition.y',\n",
       " 'digiHits_VXD_endcap/digiHits_VXD_endcap.postStepPosition.z',\n",
       " 'digiHits_VXD_endcap#0',\n",
       " 'digiHits_VXD_endcap#0/digiHits_VXD_endcap#0.index',\n",
       " 'digiHits_VXD_endcap#0/digiHits_VXD_endcap#0.collectionID',\n",
       " 'positionedHits_IT_barrel',\n",
       " 'positionedHits_IT_barrel/positionedHits_IT_barrel.position.x',\n",
       " 'positionedHits_IT_barrel/positionedHits_IT_barrel.position.y',\n",
       " 'positionedHits_IT_barrel/positionedHits_IT_barrel.position.z',\n",
       " 'positionedHits_IT_barrel/positionedHits_IT_barrel.core.cellId',\n",
       " 'positionedHits_IT_barrel/positionedHits_IT_barrel.core.energy',\n",
       " 'positionedHits_IT_barrel/positionedHits_IT_barrel.core.time',\n",
       " 'positionedHits_IT_barrel/positionedHits_IT_barrel.core.bits',\n",
       " 'hits_IT_barrel',\n",
       " 'hits_IT_barrel/hits_IT_barrel.core.cellId',\n",
       " 'hits_IT_barrel/hits_IT_barrel.core.energy',\n",
       " 'hits_IT_barrel/hits_IT_barrel.core.time',\n",
       " 'hits_IT_barrel/hits_IT_barrel.core.bits',\n",
       " 'digiHits_IT_barrel',\n",
       " 'digiHits_IT_barrel/digiHits_IT_barrel.postStepPosition.x',\n",
       " 'digiHits_IT_barrel/digiHits_IT_barrel.postStepPosition.y',\n",
       " 'digiHits_IT_barrel/digiHits_IT_barrel.postStepPosition.z',\n",
       " 'digiHits_IT_barrel#0',\n",
       " 'digiHits_IT_barrel#0/digiHits_IT_barrel#0.index',\n",
       " 'digiHits_IT_barrel#0/digiHits_IT_barrel#0.collectionID',\n",
       " 'positionedHits_IT_endcap',\n",
       " 'positionedHits_IT_endcap/positionedHits_IT_endcap.position.x',\n",
       " 'positionedHits_IT_endcap/positionedHits_IT_endcap.position.y',\n",
       " 'positionedHits_IT_endcap/positionedHits_IT_endcap.position.z',\n",
       " 'positionedHits_IT_endcap/positionedHits_IT_endcap.core.cellId',\n",
       " 'positionedHits_IT_endcap/positionedHits_IT_endcap.core.energy',\n",
       " 'positionedHits_IT_endcap/positionedHits_IT_endcap.core.time',\n",
       " 'positionedHits_IT_endcap/positionedHits_IT_endcap.core.bits',\n",
       " 'hits_IT_endcap',\n",
       " 'hits_IT_endcap/hits_IT_endcap.core.cellId',\n",
       " 'hits_IT_endcap/hits_IT_endcap.core.energy',\n",
       " 'hits_IT_endcap/hits_IT_endcap.core.time',\n",
       " 'hits_IT_endcap/hits_IT_endcap.core.bits',\n",
       " 'digiHits_IT_endcap',\n",
       " 'digiHits_IT_endcap/digiHits_IT_endcap.postStepPosition.x',\n",
       " 'digiHits_IT_endcap/digiHits_IT_endcap.postStepPosition.y',\n",
       " 'digiHits_IT_endcap/digiHits_IT_endcap.postStepPosition.z',\n",
       " 'digiHits_IT_endcap#0',\n",
       " 'digiHits_IT_endcap#0/digiHits_IT_endcap#0.index',\n",
       " 'digiHits_IT_endcap#0/digiHits_IT_endcap#0.collectionID',\n",
       " 'positionedHits_OT_barrel',\n",
       " 'positionedHits_OT_barrel/positionedHits_OT_barrel.position.x',\n",
       " 'positionedHits_OT_barrel/positionedHits_OT_barrel.position.y',\n",
       " 'positionedHits_OT_barrel/positionedHits_OT_barrel.position.z',\n",
       " 'positionedHits_OT_barrel/positionedHits_OT_barrel.core.cellId',\n",
       " 'positionedHits_OT_barrel/positionedHits_OT_barrel.core.energy',\n",
       " 'positionedHits_OT_barrel/positionedHits_OT_barrel.core.time',\n",
       " 'positionedHits_OT_barrel/positionedHits_OT_barrel.core.bits',\n",
       " 'hits_OT_barrel',\n",
       " 'hits_OT_barrel/hits_OT_barrel.core.cellId',\n",
       " 'hits_OT_barrel/hits_OT_barrel.core.energy',\n",
       " 'hits_OT_barrel/hits_OT_barrel.core.time',\n",
       " 'hits_OT_barrel/hits_OT_barrel.core.bits',\n",
       " 'digiHits_OT_barrel',\n",
       " 'digiHits_OT_barrel/digiHits_OT_barrel.postStepPosition.x',\n",
       " 'digiHits_OT_barrel/digiHits_OT_barrel.postStepPosition.y',\n",
       " 'digiHits_OT_barrel/digiHits_OT_barrel.postStepPosition.z',\n",
       " 'digiHits_OT_barrel#0',\n",
       " 'digiHits_OT_barrel#0/digiHits_OT_barrel#0.index',\n",
       " 'digiHits_OT_barrel#0/digiHits_OT_barrel#0.collectionID',\n",
       " 'positionedHits_OT_endcap',\n",
       " 'positionedHits_OT_endcap/positionedHits_OT_endcap.position.x',\n",
       " 'positionedHits_OT_endcap/positionedHits_OT_endcap.position.y',\n",
       " 'positionedHits_OT_endcap/positionedHits_OT_endcap.position.z',\n",
       " 'positionedHits_OT_endcap/positionedHits_OT_endcap.core.cellId',\n",
       " 'positionedHits_OT_endcap/positionedHits_OT_endcap.core.energy',\n",
       " 'positionedHits_OT_endcap/positionedHits_OT_endcap.core.time',\n",
       " 'positionedHits_OT_endcap/positionedHits_OT_endcap.core.bits',\n",
       " 'hits_OT_endcap',\n",
       " 'hits_OT_endcap/hits_OT_endcap.core.cellId',\n",
       " 'hits_OT_endcap/hits_OT_endcap.core.energy',\n",
       " 'hits_OT_endcap/hits_OT_endcap.core.time',\n",
       " 'hits_OT_endcap/hits_OT_endcap.core.bits',\n",
       " 'digiHits_OT_endcap',\n",
       " 'digiHits_OT_endcap/digiHits_OT_endcap.postStepPosition.x',\n",
       " 'digiHits_OT_endcap/digiHits_OT_endcap.postStepPosition.y',\n",
       " 'digiHits_OT_endcap/digiHits_OT_endcap.postStepPosition.z',\n",
       " 'digiHits_OT_endcap#0',\n",
       " 'digiHits_OT_endcap#0/digiHits_OT_endcap#0.index',\n",
       " 'digiHits_OT_endcap#0/digiHits_OT_endcap#0.collectionID',\n",
       " 'positionedHits_Lumical',\n",
       " 'positionedHits_Lumical/positionedHits_Lumical.position.x',\n",
       " 'positionedHits_Lumical/positionedHits_Lumical.position.y',\n",
       " 'positionedHits_Lumical/positionedHits_Lumical.position.z',\n",
       " 'positionedHits_Lumical/positionedHits_Lumical.core.cellId',\n",
       " 'positionedHits_Lumical/positionedHits_Lumical.core.energy',\n",
       " 'positionedHits_Lumical/positionedHits_Lumical.core.time',\n",
       " 'positionedHits_Lumical/positionedHits_Lumical.core.bits',\n",
       " 'hits_Lumical',\n",
       " 'hits_Lumical/hits_Lumical.core.cellId',\n",
       " 'hits_Lumical/hits_Lumical.core.energy',\n",
       " 'hits_Lumical/hits_Lumical.core.time',\n",
       " 'hits_Lumical/hits_Lumical.core.bits',\n",
       " 'positionedHits_EcalBarrel',\n",
       " 'positionedHits_EcalBarrel/positionedHits_EcalBarrel.position.x',\n",
       " 'positionedHits_EcalBarrel/positionedHits_EcalBarrel.position.y',\n",
       " 'positionedHits_EcalBarrel/positionedHits_EcalBarrel.position.z',\n",
       " 'positionedHits_EcalBarrel/positionedHits_EcalBarrel.core.cellId',\n",
       " 'positionedHits_EcalBarrel/positionedHits_EcalBarrel.core.energy',\n",
       " 'positionedHits_EcalBarrel/positionedHits_EcalBarrel.core.time',\n",
       " 'positionedHits_EcalBarrel/positionedHits_EcalBarrel.core.bits',\n",
       " 'hits_EcalBarrel',\n",
       " 'hits_EcalBarrel/hits_EcalBarrel.core.cellId',\n",
       " 'hits_EcalBarrel/hits_EcalBarrel.core.energy',\n",
       " 'hits_EcalBarrel/hits_EcalBarrel.core.time',\n",
       " 'hits_EcalBarrel/hits_EcalBarrel.core.bits',\n",
       " 'positionedHits_EcalEndcap',\n",
       " 'positionedHits_EcalEndcap/positionedHits_EcalEndcap.position.x',\n",
       " 'positionedHits_EcalEndcap/positionedHits_EcalEndcap.position.y',\n",
       " 'positionedHits_EcalEndcap/positionedHits_EcalEndcap.position.z',\n",
       " 'positionedHits_EcalEndcap/positionedHits_EcalEndcap.core.cellId',\n",
       " 'positionedHits_EcalEndcap/positionedHits_EcalEndcap.core.energy',\n",
       " 'positionedHits_EcalEndcap/positionedHits_EcalEndcap.core.time',\n",
       " 'positionedHits_EcalEndcap/positionedHits_EcalEndcap.core.bits',\n",
       " 'hits_EcalEndcap',\n",
       " 'hits_EcalEndcap/hits_EcalEndcap.core.cellId',\n",
       " 'hits_EcalEndcap/hits_EcalEndcap.core.energy',\n",
       " 'hits_EcalEndcap/hits_EcalEndcap.core.time',\n",
       " 'hits_EcalEndcap/hits_EcalEndcap.core.bits',\n",
       " 'positionedHits_HcalBarrel',\n",
       " 'positionedHits_HcalBarrel/positionedHits_HcalBarrel.position.x',\n",
       " 'positionedHits_HcalBarrel/positionedHits_HcalBarrel.position.y',\n",
       " 'positionedHits_HcalBarrel/positionedHits_HcalBarrel.position.z',\n",
       " 'positionedHits_HcalBarrel/positionedHits_HcalBarrel.core.cellId',\n",
       " 'positionedHits_HcalBarrel/positionedHits_HcalBarrel.core.energy',\n",
       " 'positionedHits_HcalBarrel/positionedHits_HcalBarrel.core.time',\n",
       " 'positionedHits_HcalBarrel/positionedHits_HcalBarrel.core.bits',\n",
       " 'hits_HcalBarrel',\n",
       " 'hits_HcalBarrel/hits_HcalBarrel.core.cellId',\n",
       " 'hits_HcalBarrel/hits_HcalBarrel.core.energy',\n",
       " 'hits_HcalBarrel/hits_HcalBarrel.core.time',\n",
       " 'hits_HcalBarrel/hits_HcalBarrel.core.bits',\n",
       " 'positionedHits_HcalEndcap',\n",
       " 'positionedHits_HcalEndcap/positionedHits_HcalEndcap.position.x',\n",
       " 'positionedHits_HcalEndcap/positionedHits_HcalEndcap.position.y',\n",
       " 'positionedHits_HcalEndcap/positionedHits_HcalEndcap.position.z',\n",
       " 'positionedHits_HcalEndcap/positionedHits_HcalEndcap.core.cellId',\n",
       " 'positionedHits_HcalEndcap/positionedHits_HcalEndcap.core.energy',\n",
       " 'positionedHits_HcalEndcap/positionedHits_HcalEndcap.core.time',\n",
       " 'positionedHits_HcalEndcap/positionedHits_HcalEndcap.core.bits',\n",
       " 'hits_HcalEndcap',\n",
       " 'hits_HcalEndcap/hits_HcalEndcap.core.cellId',\n",
       " 'hits_HcalEndcap/hits_HcalEndcap.core.energy',\n",
       " 'hits_HcalEndcap/hits_HcalEndcap.core.time',\n",
       " 'hits_HcalEndcap/hits_HcalEndcap.core.bits']"
      ]
     },
     "execution_count": 24,
     "metadata": {},
     "output_type": "execute_result"
    }
   ],
   "source": [
    "fi[\"events\"].keys()"
   ]
  },
  {
   "cell_type": "code",
   "execution_count": 25,
   "metadata": {},
   "outputs": [],
   "source": [
    "pid = fi[\"events\"][\"simParticles/simParticles.core.pdgId\"].array()\n",
    "status = fi[\"events\"][\"simParticles/simParticles.core.status\"].array()\n",
    "px = fi[\"events\"][\"simParticles/simParticles.core.p4.px\"].array()\n",
    "py = fi[\"events\"][\"simParticles/simParticles.core.p4.py\"].array()\n",
    "pz = fi[\"events\"][\"simParticles/simParticles.core.p4.pz\"].array()"
   ]
  },
  {
   "cell_type": "code",
   "execution_count": 26,
   "metadata": {},
   "outputs": [],
   "source": [
    "hits = fi[\"events\"].arrays([\n",
    "    \"positionedHits_IT_barrel/positionedHits_IT_barrel.core.energy\",\n",
    "    \"positionedHits_IT_barrel/positionedHits_IT_barrel.position.x\",\n",
    "    \"positionedHits_IT_barrel/positionedHits_IT_barrel.position.y\",\n",
    "    \"positionedHits_IT_barrel/positionedHits_IT_barrel.position.z\",\n",
    "    \n",
    "    \"positionedHits_OT_barrel/positionedHits_OT_barrel.core.energy\",\n",
    "    \"positionedHits_OT_barrel/positionedHits_OT_barrel.position.x\",\n",
    "    \"positionedHits_OT_barrel/positionedHits_OT_barrel.position.y\",\n",
    "    \"positionedHits_OT_barrel/positionedHits_OT_barrel.position.z\",\n",
    "    \n",
    "    \"positionedHits_IT_endcap/positionedHits_IT_endcap.core.energy\",\n",
    "    \"positionedHits_IT_endcap/positionedHits_IT_endcap.position.x\",\n",
    "    \"positionedHits_IT_endcap/positionedHits_IT_endcap.position.y\",\n",
    "    \"positionedHits_IT_endcap/positionedHits_IT_endcap.position.z\",\n",
    "    \n",
    "    \"positionedHits_OT_endcap/positionedHits_OT_endcap.core.energy\",\n",
    "    \"positionedHits_OT_endcap/positionedHits_OT_endcap.position.x\",\n",
    "    \"positionedHits_OT_endcap/positionedHits_OT_endcap.position.y\",\n",
    "    \"positionedHits_OT_endcap/positionedHits_OT_endcap.position.z\",\n",
    "    \n",
    "    \"positionedHits_EcalBarrel/positionedHits_EcalBarrel.core.energy\",\n",
    "    \"positionedHits_EcalBarrel/positionedHits_EcalBarrel.position.x\",\n",
    "    \"positionedHits_EcalBarrel/positionedHits_EcalBarrel.position.y\",\n",
    "    \"positionedHits_EcalBarrel/positionedHits_EcalBarrel.position.z\",\n",
    "\n",
    "    \"positionedHits_EcalEndcap/positionedHits_EcalEndcap.core.energy\",\n",
    "    \"positionedHits_EcalEndcap/positionedHits_EcalEndcap.position.x\",\n",
    "    \"positionedHits_EcalEndcap/positionedHits_EcalEndcap.position.y\",\n",
    "    \"positionedHits_EcalEndcap/positionedHits_EcalEndcap.position.z\",\n",
    "    \n",
    "    \"positionedHits_HcalBarrel/positionedHits_HcalBarrel.core.energy\",\n",
    "    \"positionedHits_HcalBarrel/positionedHits_HcalBarrel.position.x\",\n",
    "    \"positionedHits_HcalBarrel/positionedHits_HcalBarrel.position.y\",\n",
    "    \"positionedHits_HcalBarrel/positionedHits_HcalBarrel.position.z\",\n",
    "    \n",
    "    \"positionedHits_HcalEndcap/positionedHits_HcalEndcap.core.energy\",\n",
    "    \"positionedHits_HcalEndcap/positionedHits_HcalEndcap.position.x\",\n",
    "    \"positionedHits_HcalEndcap/positionedHits_HcalEndcap.position.y\",\n",
    "    \"positionedHits_HcalEndcap/positionedHits_HcalEndcap.position.z\",\n",
    "])"
   ]
  },
  {
   "cell_type": "code",
   "execution_count": 27,
   "metadata": {},
   "outputs": [],
   "source": [
    "import numpy as np"
   ]
  },
  {
   "cell_type": "code",
   "execution_count": 44,
   "metadata": {},
   "outputs": [],
   "source": [
    "iev = 3"
   ]
  },
  {
   "cell_type": "code",
   "execution_count": 45,
   "metadata": {},
   "outputs": [
    {
     "data": {
      "text/plain": [
       "array([  22,   22,   22,   22,   22,   22,   22,   22,   22,   22,   22,\n",
       "         22,   22,   22, -211,  211, -211,  211, -211,  211,   22,   22,\n",
       "         22,   22,   22,   22,   22,   22,  130,  211, -211,  211,  130,\n",
       "        211, -211,  211, -211, -211,  211, -211,  211, -211,   22,   22,\n",
       "         22,   22], dtype=int32)"
      ]
     },
     "execution_count": 45,
     "metadata": {},
     "output_type": "execute_result"
    }
   ],
   "source": [
    "np.array(pid[iev][status[iev]==0])"
   ]
  },
  {
   "cell_type": "code",
   "execution_count": 46,
   "metadata": {},
   "outputs": [
    {
     "data": {
      "text/plain": [
       "(<Array [0.673, 0.211, ... 0.00012, 0.0248] type='46 * float32'>,\n",
       " <Array [0.268, 0.142, ... -0.00922, 0.0123] type='46 * float32'>,\n",
       " <Array [-0.114, 0.0191, ... -0.00101, -0.021] type='46 * float32'>)"
      ]
     },
     "execution_count": 46,
     "metadata": {},
     "output_type": "execute_result"
    }
   ],
   "source": [
    "px[iev][status[iev]==0], py[iev][status[iev]==0], pz[iev][status[iev]==0]"
   ]
  },
  {
   "cell_type": "code",
   "execution_count": 47,
   "metadata": {},
   "outputs": [
    {
     "data": {
      "text/plain": [
       "array([-573.51166 , -573.3222  , -555.12604 ,  268.38943 , -573.3222  ,\n",
       "        440.1361  ,  372.7133  ,  425.63217 ,  421.06268 ,  484.72607 ,\n",
       "        396.7484  ,  428.18982 ,  421.10654 ,  434.75845 ,  433.93152 ,\n",
       "        432.39587 ,  399.78394 ,   48.82671 ,   48.8829  ,   48.935886,\n",
       "         49.00052 ,   49.06719 ,   49.11328 ,   49.14593 ,   49.26673 ,\n",
       "         49.255123,   49.2485  ,   49.24778 ,   49.242218,   49.234337,\n",
       "       -156.04778 ,   39.430378,   41.35712 ,  240.10832 ], dtype=float32)"
      ]
     },
     "execution_count": 47,
     "metadata": {},
     "output_type": "execute_result"
    }
   ],
   "source": [
    "np.array(hits[iev][\"positionedHits_IT_endcap/positionedHits_IT_endcap.position.x\"])"
   ]
  },
  {
   "cell_type": "code",
   "execution_count": 48,
   "metadata": {},
   "outputs": [
    {
     "data": {
      "text/plain": [
       "array([ 126.9185  ,  -28.746973,  126.9185  ,  -21.892447,  126.9185  ,\n",
       "        -12.576608,  -13.747594,  126.9185  ,  128.96585 ,   -9.748312,\n",
       "        114.62304 ,  116.02374 ,  344.83923 ,  527.586   ,  115.43588 ,\n",
       "        306.5012  ,  360.45776 , -610.35236 ,  102.417694,  345.41214 ,\n",
       "        624.13745 , -138.21149 , -117.452576,    6.42712 ,  126.9185  ,\n",
       "        379.66965 ,  655.8392  ,  -73.77952 ,  -69.13193 ,  394.46213 ,\n",
       "        666.9962  ,   19.69175 ,  669.9185  ,   88.166214,  209.69704 ,\n",
       "        256.48825 ,  105.72738 ,  313.39984 ,  496.58792 ,   65.25758 ,\n",
       "        253.77939 ,  504.39767 ,  -79.387764,  -10.195956, -100.953   ,\n",
       "       -330.15005 , -575.5501  ,  127.76883 ,  394.69992 ,  661.929   ,\n",
       "        126.9185  ,  395.61432 ,  657.1414  ,  102.61358 ,  332.48337 ,\n",
       "        580.79285 , -117.77873 , -387.32016 , -665.2185  , -126.9185  ,\n",
       "       -402.4185  , -672.4185  , -111.05714 , -298.20743 , -375.55734 ,\n",
       "        124.18502 ,  381.1139  ,  637.7534  , -117.384636, -360.63394 ,\n",
       "       -581.6938  ,  -87.185036, -348.035   , -663.7772  , -123.58436 ,\n",
       "       -376.02295 , -621.7515  , -125.72061 , -318.2866  , -233.5823  ,\n",
       "       -229.40022 ,  313.26077 ,  316.97324 , -124.43437 , -385.70734 ,\n",
       "       -641.3256  ], dtype=float32)"
      ]
     },
     "execution_count": 48,
     "metadata": {},
     "output_type": "execute_result"
    }
   ],
   "source": [
    "np.array(hits[iev][\"positionedHits_IT_barrel/positionedHits_IT_barrel.position.x\"])"
   ]
  },
  {
   "cell_type": "code",
   "execution_count": 49,
   "metadata": {},
   "outputs": [
    {
     "data": {
      "text/plain": [
       "array([  674.7033   ,   631.55756  , -1287.3854   , -1291.4985   ,\n",
       "       -1288.6128   , -1288.6398   , -1287.5176   , -1287.5443   ,\n",
       "       -1287.562    , -1287.5848   ,   616.2867   ,   616.30035  ,\n",
       "         616.31836  ,   616.34125  ,   616.3639   ,   616.3783   ,\n",
       "         616.37714  ,   616.3734   ,   616.36774  ,  -277.6285   ,\n",
       "        -277.38004  ,  -277.37845  ,  -277.3736   ,  -277.3674   ,\n",
       "        -277.3606   ,  -277.35013  ,  -277.34045  ,  -277.33023  ,\n",
       "        -277.32364  ,  -277.33948  ,  -277.345    ,  -277.35345  ,\n",
       "        -277.3611   ,   -27.347752 ,   -47.320656 ,  -540.1314   ,\n",
       "         -44.3448   ,   -64.087166 ,  -543.3504   ,    -6.2348948,\n",
       "         998.0985   ,   108.17287  ,   103.151085 ,   992.3396   ,\n",
       "         972.43835  ,   958.4897   ,   529.18176  ,   192.04466  ,\n",
       "         189.66107  ,  -367.07538  ,   192.05568  ,   192.0371   ,\n",
       "         192.00906  ,   192.16457  ,   192.16507  ,   192.16582  ,\n",
       "         192.16623  ,   192.1676   ,   192.17186  ,   192.17458  ,\n",
       "         192.16978  ,   192.16464  ,   192.16318  ,   192.16739  ,\n",
       "         192.16895  ,   192.16615  ,   192.1628   ,   192.16072  ,\n",
       "         192.15945  ,   684.0798   ,   909.7111   ,   979.342    ,\n",
       "        -852.0365   ,   882.6306   ,  1028.6365   ,  1015.5548   ,\n",
       "         186.89711  ,   875.28345  ,  -892.8938   , -1492.9196   ,\n",
       "       -2108.623    ,  1829.2625   ,  1829.2682   ,  1829.2737   ,\n",
       "        1829.2783   ,  1829.284    ,  1829.2864   ,  1829.2927   ,\n",
       "        1829.3075   ,  1829.3097   ,  -952.08887  ,  -991.6603   ,\n",
       "        -953.2155   ,  -991.3879   ,  -954.52264  ,  -990.9323   ,\n",
       "        -955.12     ,  -991.30133  ,  -954.7749   ,  -990.8562   ,\n",
       "        -952.08905  , -1466.4266   , -1878.6089   ,  -747.6707   ,\n",
       "        -746.7685   ,  -746.7645   ,   960.17413  ,  1231.042    ,\n",
       "         962.3741   ,  1087.702    ,  1105.8523   ,  1086.6993   ,\n",
       "        1107.6486   ,  1089.7161   ,  1105.0729   ,  1093.345    ,\n",
       "        1094.7427   ,  1095.4966   ,  1094.516    ,  1095.141    ,\n",
       "        1121.393    ,  1113.1853   ,  1101.8872   ,  1106.438    ,\n",
       "        1130.0486   ,  1129.189    ,  1118.4391   ,   992.63367  ,\n",
       "        1557.465    ,  2127.8164   ,   955.15125  ,  1421.2308   ,\n",
       "        1772.6091   ,   909.3393   ,  1507.2032   ,  2126.2622   ,\n",
       "        -996.68414  , -1438.3323   ,   392.08804  ,   569.962    ,\n",
       "       -1000.6189   , -1394.8999   ,  -997.078    , -1563.8733   ,\n",
       "       -2118.5955   ,   946.075    ,  1459.7365   ,  1972.5142   ,\n",
       "       -1404.6383   ,   995.8863   ,   995.8889   ,   995.89105  ,\n",
       "         995.89276  ,   995.895    ,   995.8991   ,   995.903    ,\n",
       "         995.9075   ,   995.91846  ,  1971.2877   ,  1971.2667   ,\n",
       "        1971.2319   ,  1971.197    ,  -821.0414   , -1148.4817   ,\n",
       "       -1329.0186   ,  -909.9662   , -1377.2811   , -1803.1611   ,\n",
       "        -953.78973  , -1492.1658   , -2035.7488   ], dtype=float32)"
      ]
     },
     "execution_count": 49,
     "metadata": {},
     "output_type": "execute_result"
    }
   ],
   "source": [
    "np.array(hits[iev][\"positionedHits_OT_barrel/positionedHits_OT_barrel.position.x\"])"
   ]
  },
  {
   "cell_type": "code",
   "execution_count": 50,
   "metadata": {},
   "outputs": [
    {
     "data": {
      "text/plain": [
       "array([ -266.50702 ,   847.43005 ,   847.4102  ,   847.4176  ,\n",
       "         847.43054 ,   847.44183 ,   847.4429  , -1415.5934  ,\n",
       "       -1650.7518  , -1466.7406  , -1458.6254  ,  -881.0702  ,\n",
       "         185.94177 ,   185.93648 ,   185.93129 ,   185.926   ,\n",
       "         185.92447 ,   185.9338  ,   185.94063 ,   185.95927 ,\n",
       "         185.96829 ,   185.95424 , -1320.3136  , -1320.1865  ,\n",
       "       -1320.0385  , -1319.6047  , -1319.6187  ,  1232.8853  ,\n",
       "        1342.1356  ,   445.1507  ,   443.9801  ,   443.98254 ,\n",
       "         443.98694 ,   443.9942  ,   443.99265 ,  -965.72253 ,\n",
       "       -1041.4543  , -1039.1979  , -1033.6586  , -1033.5552  ,\n",
       "       -1018.6176  , -1003.1399  , -1013.46497 , -1006.07916 ,\n",
       "       -1014.4195  , -1010.4738  ,  -999.98364 , -1000.8284  ,\n",
       "        -989.23627 ,  -990.4308  ,  -994.15454 ,  -975.0489  ,\n",
       "        -973.9807  , -1027.5894  , -1027.5574  , -1027.53    ,\n",
       "       -1027.4855  , -1027.4432  ,  -505.06784 ,  -505.15765 ,\n",
       "        -505.14664 ,  -505.13318 ,  -505.12106 ,  -505.10422 ,\n",
       "        -505.09537 ,  -515.08295 ,  -514.6858  ,  -514.17883 ,\n",
       "        1123.3043  ,  1110.5294  ,  1089.2946  ,  1081.4506  ,\n",
       "        1081.4707  ,  1081.4924  ,  1080.9706  ,  1080.9675  ,\n",
       "        1080.9615  ,  1080.9569  ,  1080.9519  ,  1080.9525  ,\n",
       "        1085.6311  ,  1085.6365  ,  1085.6416  ,  1085.6548  ,\n",
       "        1085.6697  ,  1085.6956  ,  1085.7025  ,  1085.7172  ,\n",
       "        1085.7278  ,  1085.739   ,  1085.752   ,  1085.7689  ,\n",
       "        1085.7917  ,  1266.0624  ,  1363.1097  ,  1262.6677  ,\n",
       "        1236.1943  ,  1235.1929  ,   -23.48194 , -1370.8912  ,\n",
       "       -1360.7996  ,    56.210484, -1360.47    , -1360.5     ,\n",
       "       -1360.5109  ,  -171.33694 ,  -171.33768 ,  -168.65614 ,\n",
       "        -170.83133 ,  -170.78311 ,  -170.73483 ,   389.9494  ,\n",
       "         398.13736 ,   743.0433  ,   859.0005  ,   859.25    ,\n",
       "         721.33954 ,  -722.4411  ,   -88.30417 ,   -88.30513 ,\n",
       "         -88.29878 ,   -88.28738 ,   -88.2875  ,   -88.299965,\n",
       "         -88.31809 ,   -88.32943 ,   -88.32403 ,   -88.31939 ,\n",
       "         -88.3144  ,   327.36868 ,  -570.76666 ], dtype=float32)"
      ]
     },
     "execution_count": 50,
     "metadata": {},
     "output_type": "execute_result"
    }
   ],
   "source": [
    "np.array(hits[iev][\"positionedHits_OT_endcap/positionedHits_OT_endcap.position.x\"])"
   ]
  },
  {
   "cell_type": "code",
   "execution_count": 51,
   "metadata": {},
   "outputs": [
    {
     "data": {
      "text/plain": [
       "Text(0.5, 1.0, 'FCCee, ee->Z->ddbar, CLD Geant sim')"
      ]
     },
     "execution_count": 51,
     "metadata": {},
     "output_type": "execute_result"
    },
    {
     "data": {
      "image/png": "[encoded data removed]",
      "text/plain": [
       "<Figure size 720x720 with 1 Axes>"
      ]
     },
     "metadata": {
      "needs_background": "light"
     },
     "output_type": "display_data"
    }
   ],
   "source": [
    "plt.figure(figsize=(10, 10))\n",
    "\n",
    "plt.scatter(\n",
    "    hits[iev][\"positionedHits_HcalBarrel/positionedHits_HcalBarrel.position.x\"],\n",
    "    hits[iev][\"positionedHits_HcalBarrel/positionedHits_HcalBarrel.position.y\"],\n",
    "    s=10000*hits[iev][\"positionedHits_HcalBarrel/positionedHits_HcalBarrel.core.energy\"],\n",
    "    label=\"HCAL\"\n",
    ")\n",
    "\n",
    "plt.scatter(\n",
    "    hits[iev][\"positionedHits_EcalBarrel/positionedHits_EcalBarrel.position.x\"],\n",
    "    hits[iev][\"positionedHits_EcalBarrel/positionedHits_EcalBarrel.position.y\"],\n",
    "    s=10000*hits[iev][\"positionedHits_EcalBarrel/positionedHits_EcalBarrel.core.energy\"],\n",
    "    label=\"ECAL\"\n",
    ")\n",
    "\n",
    "plt.scatter(\n",
    "    hits[iev][\"positionedHits_IT_barrel/positionedHits_IT_barrel.position.x\"],\n",
    "    hits[iev][\"positionedHits_IT_barrel/positionedHits_IT_barrel.position.y\"],\n",
    "    s=10000*hits[iev][\"positionedHits_IT_barrel/positionedHits_IT_barrel.core.energy\"],\n",
    "    label=\"InnerTracker barrel\"\n",
    ")\n",
    "\n",
    "plt.scatter(\n",
    "    hits[iev][\"positionedHits_OT_barrel/positionedHits_OT_barrel.position.x\"],\n",
    "    hits[iev][\"positionedHits_OT_barrel/positionedHits_OT_barrel.position.y\"],\n",
    "    s=10000*hits[iev][\"positionedHits_OT_barrel/positionedHits_OT_barrel.core.energy\"],\n",
    "    label=\"OuterTracker barrel\"\n",
    ")\n",
    "\n",
    "plt.scatter(\n",
    "    hits[iev][\"positionedHits_IT_endcap/positionedHits_IT_endcap.position.x\"],\n",
    "    hits[iev][\"positionedHits_IT_endcap/positionedHits_IT_endcap.position.y\"],\n",
    "    s=10000*hits[iev][\"positionedHits_IT_endcap/positionedHits_IT_endcap.core.energy\"],\n",
    "    label=\"InnerTracker endcap\"\n",
    ")\n",
    "\n",
    "plt.scatter(\n",
    "    hits[iev][\"positionedHits_OT_endcap/positionedHits_OT_endcap.position.x\"],\n",
    "    hits[iev][\"positionedHits_OT_endcap/positionedHits_OT_endcap.position.y\"],\n",
    "    s=10000*hits[iev][\"positionedHits_OT_endcap/positionedHits_OT_endcap.core.energy\"],\n",
    "    label=\"OuterTracker endcap\"\n",
    ")\n",
    "\n",
    "plt.legend()\n",
    "plt.xlim(-4000, 4000)\n",
    "plt.ylim(-4000, 4000)\n",
    "plt.title(\"FCCee, ee->Z->ddbar, CLD Geant sim\")"
   ]
  },
  {
   "cell_type": "code",
   "execution_count": 14,
   "metadata": {},
   "outputs": [],
   "source": [
    "iev = 0"
   ]
  },
  {
   "cell_type": "code",
   "execution_count": 25,
   "metadata": {},
   "outputs": [
    {
     "data": {
      "text/plain": [
       "(<Array [-0.0239] type='1 * float32'>, <Array [0.0125] type='1 * float32'>)"
      ]
     },
     "execution_count": 25,
     "metadata": {},
     "output_type": "execute_result"
    }
   ],
   "source": [
    "px[iev][status[iev]==0], py[iev][status[iev]==0]"
   ]
  },
  {
   "cell_type": "code",
   "execution_count": null,
   "metadata": {},
   "outputs": [],
   "source": []
  }
 ],
 "metadata": {
  "kernelspec": {
   "display_name": "Python 3",
   "language": "python",
   "name": "python3"
  },
  "language_info": {
   "codemirror_mode": {
    "name": "ipython",
    "version": 3
   },
   "file_extension": ".py",
   "mimetype": "text/x-python",
   "name": "python",
   "nbconvert_exporter": "python",
   "pygments_lexer": "ipython3",
   "version": "3.8.5"
  }
 },
 "nbformat": 4,
 "nbformat_minor": 4
}
