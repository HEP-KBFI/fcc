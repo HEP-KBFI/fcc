{
 "cells": [
  {
   "cell_type": "code",
   "execution_count": 1,
   "metadata": {},
   "outputs": [],
   "source": [
    "import uproot\n",
    "import matplotlib.pyplot as plt"
   ]
  },
  {
   "cell_type": "code",
   "execution_count": 2,
   "metadata": {},
   "outputs": [],
   "source": [
    "fi = uproot.open(\"../out.root\")"
   ]
  },
  {
   "cell_type": "code",
   "execution_count": 3,
   "metadata": {
    "scrolled": false
   },
   "outputs": [
    {
     "data": {
      "text/plain": [
       "['GenParticles',\n",
       " 'GenParticles/GenParticles.core.pdgId',\n",
       " 'GenParticles/GenParticles.core.charge',\n",
       " 'GenParticles/GenParticles.core.status',\n",
       " 'GenParticles/GenParticles.core.vertex.x',\n",
       " 'GenParticles/GenParticles.core.vertex.y',\n",
       " 'GenParticles/GenParticles.core.vertex.z',\n",
       " 'GenParticles/GenParticles.core.p4.mass',\n",
       " 'GenParticles/GenParticles.core.p4.px',\n",
       " 'GenParticles/GenParticles.core.p4.py',\n",
       " 'GenParticles/GenParticles.core.p4.pz',\n",
       " 'GenParticles/GenParticles.core.bits',\n",
       " 'GenParticles#0',\n",
       " 'GenParticles#0/GenParticles#0.index',\n",
       " 'GenParticles#0/GenParticles#0.collectionID',\n",
       " 'GenParticles#1',\n",
       " 'GenParticles#1/GenParticles#1.index',\n",
       " 'GenParticles#1/GenParticles#1.collectionID',\n",
       " 'GenVertices',\n",
       " 'GenVertices/GenVertices.position.x',\n",
       " 'GenVertices/GenVertices.position.y',\n",
       " 'GenVertices/GenVertices.position.z',\n",
       " 'GenVertices/GenVertices.ctau',\n",
       " 'trajectoryPoints',\n",
       " 'trajectoryPoints/trajectoryPoints.position.x',\n",
       " 'trajectoryPoints/trajectoryPoints.position.y',\n",
       " 'trajectoryPoints/trajectoryPoints.position.z',\n",
       " 'trajectoryPoints/trajectoryPoints.core.cellId',\n",
       " 'trajectoryPoints/trajectoryPoints.core.energy',\n",
       " 'trajectoryPoints/trajectoryPoints.core.time',\n",
       " 'trajectoryPoints/trajectoryPoints.core.bits',\n",
       " 'trajectory',\n",
       " 'trajectory/trajectory.core.cellId',\n",
       " 'trajectory/trajectory.core.energy',\n",
       " 'trajectory/trajectory.core.time',\n",
       " 'trajectory/trajectory.core.bits',\n",
       " 'simParticles',\n",
       " 'simParticles/simParticles.core.pdgId',\n",
       " 'simParticles/simParticles.core.charge',\n",
       " 'simParticles/simParticles.core.status',\n",
       " 'simParticles/simParticles.core.vertex.x',\n",
       " 'simParticles/simParticles.core.vertex.y',\n",
       " 'simParticles/simParticles.core.vertex.z',\n",
       " 'simParticles/simParticles.core.p4.mass',\n",
       " 'simParticles/simParticles.core.p4.px',\n",
       " 'simParticles/simParticles.core.p4.py',\n",
       " 'simParticles/simParticles.core.p4.pz',\n",
       " 'simParticles/simParticles.core.bits',\n",
       " 'simParticles#0',\n",
       " 'simParticles#0/simParticles#0.index',\n",
       " 'simParticles#0/simParticles#0.collectionID',\n",
       " 'simParticles#1',\n",
       " 'simParticles#1/simParticles#1.index',\n",
       " 'simParticles#1/simParticles#1.collectionID',\n",
       " 'simVertices',\n",
       " 'simVertices/simVertices.position.x',\n",
       " 'simVertices/simVertices.position.y',\n",
       " 'simVertices/simVertices.position.z',\n",
       " 'simVertices/simVertices.ctau',\n",
       " 'positionedHits_VXD_barrel',\n",
       " 'positionedHits_VXD_barrel/positionedHits_VXD_barrel.position.x',\n",
       " 'positionedHits_VXD_barrel/positionedHits_VXD_barrel.position.y',\n",
       " 'positionedHits_VXD_barrel/positionedHits_VXD_barrel.position.z',\n",
       " 'positionedHits_VXD_barrel/positionedHits_VXD_barrel.core.cellId',\n",
       " 'positionedHits_VXD_barrel/positionedHits_VXD_barrel.core.energy',\n",
       " 'positionedHits_VXD_barrel/positionedHits_VXD_barrel.core.time',\n",
       " 'positionedHits_VXD_barrel/positionedHits_VXD_barrel.core.bits',\n",
       " 'hits_VXD_barrel',\n",
       " 'hits_VXD_barrel/hits_VXD_barrel.core.cellId',\n",
       " 'hits_VXD_barrel/hits_VXD_barrel.core.energy',\n",
       " 'hits_VXD_barrel/hits_VXD_barrel.core.time',\n",
       " 'hits_VXD_barrel/hits_VXD_barrel.core.bits',\n",
       " 'digiHits_VXD_barrel',\n",
       " 'digiHits_VXD_barrel/digiHits_VXD_barrel.postStepPosition.x',\n",
       " 'digiHits_VXD_barrel/digiHits_VXD_barrel.postStepPosition.y',\n",
       " 'digiHits_VXD_barrel/digiHits_VXD_barrel.postStepPosition.z',\n",
       " 'digiHits_VXD_barrel#0',\n",
       " 'digiHits_VXD_barrel#0/digiHits_VXD_barrel#0.index',\n",
       " 'digiHits_VXD_barrel#0/digiHits_VXD_barrel#0.collectionID',\n",
       " 'positionedHits_VXD_endcap',\n",
       " 'positionedHits_VXD_endcap/positionedHits_VXD_endcap.position.x',\n",
       " 'positionedHits_VXD_endcap/positionedHits_VXD_endcap.position.y',\n",
       " 'positionedHits_VXD_endcap/positionedHits_VXD_endcap.position.z',\n",
       " 'positionedHits_VXD_endcap/positionedHits_VXD_endcap.core.cellId',\n",
       " 'positionedHits_VXD_endcap/positionedHits_VXD_endcap.core.energy',\n",
       " 'positionedHits_VXD_endcap/positionedHits_VXD_endcap.core.time',\n",
       " 'positionedHits_VXD_endcap/positionedHits_VXD_endcap.core.bits',\n",
       " 'hits_VXD_endcap',\n",
       " 'hits_VXD_endcap/hits_VXD_endcap.core.cellId',\n",
       " 'hits_VXD_endcap/hits_VXD_endcap.core.energy',\n",
       " 'hits_VXD_endcap/hits_VXD_endcap.core.time',\n",
       " 'hits_VXD_endcap/hits_VXD_endcap.core.bits',\n",
       " 'digiHits_VXD_endcap',\n",
       " 'digiHits_VXD_endcap/digiHits_VXD_endcap.postStepPosition.x',\n",
       " 'digiHits_VXD_endcap/digiHits_VXD_endcap.postStepPosition.y',\n",
       " 'digiHits_VXD_endcap/digiHits_VXD_endcap.postStepPosition.z',\n",
       " 'digiHits_VXD_endcap#0',\n",
       " 'digiHits_VXD_endcap#0/digiHits_VXD_endcap#0.index',\n",
       " 'digiHits_VXD_endcap#0/digiHits_VXD_endcap#0.collectionID',\n",
       " 'positionedHits_IT_barrel',\n",
       " 'positionedHits_IT_barrel/positionedHits_IT_barrel.position.x',\n",
       " 'positionedHits_IT_barrel/positionedHits_IT_barrel.position.y',\n",
       " 'positionedHits_IT_barrel/positionedHits_IT_barrel.position.z',\n",
       " 'positionedHits_IT_barrel/positionedHits_IT_barrel.core.cellId',\n",
       " 'positionedHits_IT_barrel/positionedHits_IT_barrel.core.energy',\n",
       " 'positionedHits_IT_barrel/positionedHits_IT_barrel.core.time',\n",
       " 'positionedHits_IT_barrel/positionedHits_IT_barrel.core.bits',\n",
       " 'hits_IT_barrel',\n",
       " 'hits_IT_barrel/hits_IT_barrel.core.cellId',\n",
       " 'hits_IT_barrel/hits_IT_barrel.core.energy',\n",
       " 'hits_IT_barrel/hits_IT_barrel.core.time',\n",
       " 'hits_IT_barrel/hits_IT_barrel.core.bits',\n",
       " 'digiHits_IT_barrel',\n",
       " 'digiHits_IT_barrel/digiHits_IT_barrel.postStepPosition.x',\n",
       " 'digiHits_IT_barrel/digiHits_IT_barrel.postStepPosition.y',\n",
       " 'digiHits_IT_barrel/digiHits_IT_barrel.postStepPosition.z',\n",
       " 'digiHits_IT_barrel#0',\n",
       " 'digiHits_IT_barrel#0/digiHits_IT_barrel#0.index',\n",
       " 'digiHits_IT_barrel#0/digiHits_IT_barrel#0.collectionID',\n",
       " 'positionedHits_IT_endcap',\n",
       " 'positionedHits_IT_endcap/positionedHits_IT_endcap.position.x',\n",
       " 'positionedHits_IT_endcap/positionedHits_IT_endcap.position.y',\n",
       " 'positionedHits_IT_endcap/positionedHits_IT_endcap.position.z',\n",
       " 'positionedHits_IT_endcap/positionedHits_IT_endcap.core.cellId',\n",
       " 'positionedHits_IT_endcap/positionedHits_IT_endcap.core.energy',\n",
       " 'positionedHits_IT_endcap/positionedHits_IT_endcap.core.time',\n",
       " 'positionedHits_IT_endcap/positionedHits_IT_endcap.core.bits',\n",
       " 'hits_IT_endcap',\n",
       " 'hits_IT_endcap/hits_IT_endcap.core.cellId',\n",
       " 'hits_IT_endcap/hits_IT_endcap.core.energy',\n",
       " 'hits_IT_endcap/hits_IT_endcap.core.time',\n",
       " 'hits_IT_endcap/hits_IT_endcap.core.bits',\n",
       " 'digiHits_IT_endcap',\n",
       " 'digiHits_IT_endcap/digiHits_IT_endcap.postStepPosition.x',\n",
       " 'digiHits_IT_endcap/digiHits_IT_endcap.postStepPosition.y',\n",
       " 'digiHits_IT_endcap/digiHits_IT_endcap.postStepPosition.z',\n",
       " 'digiHits_IT_endcap#0',\n",
       " 'digiHits_IT_endcap#0/digiHits_IT_endcap#0.index',\n",
       " 'digiHits_IT_endcap#0/digiHits_IT_endcap#0.collectionID',\n",
       " 'positionedHits_OT_barrel',\n",
       " 'positionedHits_OT_barrel/positionedHits_OT_barrel.position.x',\n",
       " 'positionedHits_OT_barrel/positionedHits_OT_barrel.position.y',\n",
       " 'positionedHits_OT_barrel/positionedHits_OT_barrel.position.z',\n",
       " 'positionedHits_OT_barrel/positionedHits_OT_barrel.core.cellId',\n",
       " 'positionedHits_OT_barrel/positionedHits_OT_barrel.core.energy',\n",
       " 'positionedHits_OT_barrel/positionedHits_OT_barrel.core.time',\n",
       " 'positionedHits_OT_barrel/positionedHits_OT_barrel.core.bits',\n",
       " 'hits_OT_barrel',\n",
       " 'hits_OT_barrel/hits_OT_barrel.core.cellId',\n",
       " 'hits_OT_barrel/hits_OT_barrel.core.energy',\n",
       " 'hits_OT_barrel/hits_OT_barrel.core.time',\n",
       " 'hits_OT_barrel/hits_OT_barrel.core.bits',\n",
       " 'digiHits_OT_barrel',\n",
       " 'digiHits_OT_barrel/digiHits_OT_barrel.postStepPosition.x',\n",
       " 'digiHits_OT_barrel/digiHits_OT_barrel.postStepPosition.y',\n",
       " 'digiHits_OT_barrel/digiHits_OT_barrel.postStepPosition.z',\n",
       " 'digiHits_OT_barrel#0',\n",
       " 'digiHits_OT_barrel#0/digiHits_OT_barrel#0.index',\n",
       " 'digiHits_OT_barrel#0/digiHits_OT_barrel#0.collectionID',\n",
       " 'positionedHits_OT_endcap',\n",
       " 'positionedHits_OT_endcap/positionedHits_OT_endcap.position.x',\n",
       " 'positionedHits_OT_endcap/positionedHits_OT_endcap.position.y',\n",
       " 'positionedHits_OT_endcap/positionedHits_OT_endcap.position.z',\n",
       " 'positionedHits_OT_endcap/positionedHits_OT_endcap.core.cellId',\n",
       " 'positionedHits_OT_endcap/positionedHits_OT_endcap.core.energy',\n",
       " 'positionedHits_OT_endcap/positionedHits_OT_endcap.core.time',\n",
       " 'positionedHits_OT_endcap/positionedHits_OT_endcap.core.bits',\n",
       " 'hits_OT_endcap',\n",
       " 'hits_OT_endcap/hits_OT_endcap.core.cellId',\n",
       " 'hits_OT_endcap/hits_OT_endcap.core.energy',\n",
       " 'hits_OT_endcap/hits_OT_endcap.core.time',\n",
       " 'hits_OT_endcap/hits_OT_endcap.core.bits',\n",
       " 'digiHits_OT_endcap',\n",
       " 'digiHits_OT_endcap/digiHits_OT_endcap.postStepPosition.x',\n",
       " 'digiHits_OT_endcap/digiHits_OT_endcap.postStepPosition.y',\n",
       " 'digiHits_OT_endcap/digiHits_OT_endcap.postStepPosition.z',\n",
       " 'digiHits_OT_endcap#0',\n",
       " 'digiHits_OT_endcap#0/digiHits_OT_endcap#0.index',\n",
       " 'digiHits_OT_endcap#0/digiHits_OT_endcap#0.collectionID',\n",
       " 'positionedHits_Lumical',\n",
       " 'positionedHits_Lumical/positionedHits_Lumical.position.x',\n",
       " 'positionedHits_Lumical/positionedHits_Lumical.position.y',\n",
       " 'positionedHits_Lumical/positionedHits_Lumical.position.z',\n",
       " 'positionedHits_Lumical/positionedHits_Lumical.core.cellId',\n",
       " 'positionedHits_Lumical/positionedHits_Lumical.core.energy',\n",
       " 'positionedHits_Lumical/positionedHits_Lumical.core.time',\n",
       " 'positionedHits_Lumical/positionedHits_Lumical.core.bits',\n",
       " 'hits_Lumical',\n",
       " 'hits_Lumical/hits_Lumical.core.cellId',\n",
       " 'hits_Lumical/hits_Lumical.core.energy',\n",
       " 'hits_Lumical/hits_Lumical.core.time',\n",
       " 'hits_Lumical/hits_Lumical.core.bits',\n",
       " 'positionedHits_EcalBarrel',\n",
       " 'positionedHits_EcalBarrel/positionedHits_EcalBarrel.position.x',\n",
       " 'positionedHits_EcalBarrel/positionedHits_EcalBarrel.position.y',\n",
       " 'positionedHits_EcalBarrel/positionedHits_EcalBarrel.position.z',\n",
       " 'positionedHits_EcalBarrel/positionedHits_EcalBarrel.core.cellId',\n",
       " 'positionedHits_EcalBarrel/positionedHits_EcalBarrel.core.energy',\n",
       " 'positionedHits_EcalBarrel/positionedHits_EcalBarrel.core.time',\n",
       " 'positionedHits_EcalBarrel/positionedHits_EcalBarrel.core.bits',\n",
       " 'hits_EcalBarrel',\n",
       " 'hits_EcalBarrel/hits_EcalBarrel.core.cellId',\n",
       " 'hits_EcalBarrel/hits_EcalBarrel.core.energy',\n",
       " 'hits_EcalBarrel/hits_EcalBarrel.core.time',\n",
       " 'hits_EcalBarrel/hits_EcalBarrel.core.bits',\n",
       " 'positionedHits_EcalEndcap',\n",
       " 'positionedHits_EcalEndcap/positionedHits_EcalEndcap.position.x',\n",
       " 'positionedHits_EcalEndcap/positionedHits_EcalEndcap.position.y',\n",
       " 'positionedHits_EcalEndcap/positionedHits_EcalEndcap.position.z',\n",
       " 'positionedHits_EcalEndcap/positionedHits_EcalEndcap.core.cellId',\n",
       " 'positionedHits_EcalEndcap/positionedHits_EcalEndcap.core.energy',\n",
       " 'positionedHits_EcalEndcap/positionedHits_EcalEndcap.core.time',\n",
       " 'positionedHits_EcalEndcap/positionedHits_EcalEndcap.core.bits',\n",
       " 'hits_EcalEndcap',\n",
       " 'hits_EcalEndcap/hits_EcalEndcap.core.cellId',\n",
       " 'hits_EcalEndcap/hits_EcalEndcap.core.energy',\n",
       " 'hits_EcalEndcap/hits_EcalEndcap.core.time',\n",
       " 'hits_EcalEndcap/hits_EcalEndcap.core.bits',\n",
       " 'positionedHits_HcalBarrel',\n",
       " 'positionedHits_HcalBarrel/positionedHits_HcalBarrel.position.x',\n",
       " 'positionedHits_HcalBarrel/positionedHits_HcalBarrel.position.y',\n",
       " 'positionedHits_HcalBarrel/positionedHits_HcalBarrel.position.z',\n",
       " 'positionedHits_HcalBarrel/positionedHits_HcalBarrel.core.cellId',\n",
       " 'positionedHits_HcalBarrel/positionedHits_HcalBarrel.core.energy',\n",
       " 'positionedHits_HcalBarrel/positionedHits_HcalBarrel.core.time',\n",
       " 'positionedHits_HcalBarrel/positionedHits_HcalBarrel.core.bits',\n",
       " 'hits_HcalBarrel',\n",
       " 'hits_HcalBarrel/hits_HcalBarrel.core.cellId',\n",
       " 'hits_HcalBarrel/hits_HcalBarrel.core.energy',\n",
       " 'hits_HcalBarrel/hits_HcalBarrel.core.time',\n",
       " 'hits_HcalBarrel/hits_HcalBarrel.core.bits',\n",
       " 'positionedHits_HcalEndcap',\n",
       " 'positionedHits_HcalEndcap/positionedHits_HcalEndcap.position.x',\n",
       " 'positionedHits_HcalEndcap/positionedHits_HcalEndcap.position.y',\n",
       " 'positionedHits_HcalEndcap/positionedHits_HcalEndcap.position.z',\n",
       " 'positionedHits_HcalEndcap/positionedHits_HcalEndcap.core.cellId',\n",
       " 'positionedHits_HcalEndcap/positionedHits_HcalEndcap.core.energy',\n",
       " 'positionedHits_HcalEndcap/positionedHits_HcalEndcap.core.time',\n",
       " 'positionedHits_HcalEndcap/positionedHits_HcalEndcap.core.bits',\n",
       " 'hits_HcalEndcap',\n",
       " 'hits_HcalEndcap/hits_HcalEndcap.core.cellId',\n",
       " 'hits_HcalEndcap/hits_HcalEndcap.core.energy',\n",
       " 'hits_HcalEndcap/hits_HcalEndcap.core.time',\n",
       " 'hits_HcalEndcap/hits_HcalEndcap.core.bits']"
      ]
     },
     "execution_count": 3,
     "metadata": {},
     "output_type": "execute_result"
    }
   ],
   "source": [
    "fi[\"events\"].keys()"
   ]
  },
  {
   "cell_type": "code",
   "execution_count": 4,
   "metadata": {},
   "outputs": [],
   "source": [
    "pid = fi[\"events\"][\"simParticles/simParticles.core.pdgId\"].array()\n",
    "status = fi[\"events\"][\"simParticles/simParticles.core.status\"].array()\n",
    "px = fi[\"events\"][\"simParticles/simParticles.core.p4.px\"].array()\n",
    "py = fi[\"events\"][\"simParticles/simParticles.core.p4.py\"].array()\n",
    "pz = fi[\"events\"][\"simParticles/simParticles.core.p4.pz\"].array()"
   ]
  },
  {
   "cell_type": "code",
   "execution_count": 5,
   "metadata": {},
   "outputs": [],
   "source": [
    "hits = fi[\"events\"].arrays([\n",
    "    \"positionedHits_IT_barrel/positionedHits_IT_barrel.core.energy\",\n",
    "    \"positionedHits_IT_barrel/positionedHits_IT_barrel.position.x\",\n",
    "    \"positionedHits_IT_barrel/positionedHits_IT_barrel.position.y\",\n",
    "    \"positionedHits_IT_barrel/positionedHits_IT_barrel.position.z\",\n",
    "    \n",
    "    \"positionedHits_OT_barrel/positionedHits_OT_barrel.core.energy\",\n",
    "    \"positionedHits_OT_barrel/positionedHits_OT_barrel.position.x\",\n",
    "    \"positionedHits_OT_barrel/positionedHits_OT_barrel.position.y\",\n",
    "    \"positionedHits_OT_barrel/positionedHits_OT_barrel.position.z\",\n",
    "    \n",
    "    \"positionedHits_IT_endcap/positionedHits_IT_endcap.core.energy\",\n",
    "    \"positionedHits_IT_endcap/positionedHits_IT_endcap.position.x\",\n",
    "    \"positionedHits_IT_endcap/positionedHits_IT_endcap.position.y\",\n",
    "    \"positionedHits_IT_endcap/positionedHits_IT_endcap.position.z\",\n",
    "    \n",
    "    \"positionedHits_OT_endcap/positionedHits_OT_endcap.core.energy\",\n",
    "    \"positionedHits_OT_endcap/positionedHits_OT_endcap.position.x\",\n",
    "    \"positionedHits_OT_endcap/positionedHits_OT_endcap.position.y\",\n",
    "    \"positionedHits_OT_endcap/positionedHits_OT_endcap.position.z\",\n",
    "    \n",
    "    \"positionedHits_EcalBarrel/positionedHits_EcalBarrel.core.energy\",\n",
    "    \"positionedHits_EcalBarrel/positionedHits_EcalBarrel.position.x\",\n",
    "    \"positionedHits_EcalBarrel/positionedHits_EcalBarrel.position.y\",\n",
    "    \"positionedHits_EcalBarrel/positionedHits_EcalBarrel.position.z\",\n",
    "\n",
    "    \"positionedHits_EcalEndcap/positionedHits_EcalEndcap.core.energy\",\n",
    "    \"positionedHits_EcalEndcap/positionedHits_EcalEndcap.position.x\",\n",
    "    \"positionedHits_EcalEndcap/positionedHits_EcalEndcap.position.y\",\n",
    "    \"positionedHits_EcalEndcap/positionedHits_EcalEndcap.position.z\",\n",
    "    \n",
    "    \"positionedHits_HcalBarrel/positionedHits_HcalBarrel.core.energy\",\n",
    "    \"positionedHits_HcalBarrel/positionedHits_HcalBarrel.position.x\",\n",
    "    \"positionedHits_HcalBarrel/positionedHits_HcalBarrel.position.y\",\n",
    "    \"positionedHits_HcalBarrel/positionedHits_HcalBarrel.position.z\",\n",
    "    \n",
    "    \"positionedHits_HcalEndcap/positionedHits_HcalEndcap.core.energy\",\n",
    "    \"positionedHits_HcalEndcap/positionedHits_HcalEndcap.position.x\",\n",
    "    \"positionedHits_HcalEndcap/positionedHits_HcalEndcap.position.y\",\n",
    "    \"positionedHits_HcalEndcap/positionedHits_HcalEndcap.position.z\",\n",
    "])"
   ]
  },
  {
   "cell_type": "code",
   "execution_count": 6,
   "metadata": {},
   "outputs": [],
   "source": [
    "import numpy as np"
   ]
  },
  {
   "cell_type": "code",
   "execution_count": 7,
   "metadata": {},
   "outputs": [],
   "source": [
    "iev = 3"
   ]
  },
  {
   "cell_type": "code",
   "execution_count": 8,
   "metadata": {},
   "outputs": [
    {
     "data": {
      "text/plain": [
       "array([  22,   22,   22,   22,   22,   22,   22,   22,   22,   22,   22,\n",
       "         22,   22,   22, -211,  211, -211,  211, -211,  211,   22,   22,\n",
       "         22,   22,   22,   22,   22,   22,  130,  211, -211,  211,  130,\n",
       "        211, -211,  211, -211, -211,  211, -211,  211, -211,   22,   22,\n",
       "         22,   22], dtype=int32)"
      ]
     },
     "execution_count": 8,
     "metadata": {},
     "output_type": "execute_result"
    }
   ],
   "source": [
    "np.array(pid[iev][status[iev]==0])"
   ]
  },
  {
   "cell_type": "code",
   "execution_count": 9,
   "metadata": {},
   "outputs": [
    {
     "data": {
      "text/plain": [
       "(<Array [0.673, 0.211, ... 0.00012, 0.0248] type='46 * float32'>,\n",
       " <Array [0.268, 0.142, ... -0.00922, 0.0123] type='46 * float32'>,\n",
       " <Array [-0.114, 0.0191, ... -0.00101, -0.021] type='46 * float32'>)"
      ]
     },
     "execution_count": 9,
     "metadata": {},
     "output_type": "execute_result"
    }
   ],
   "source": [
    "px[iev][status[iev]==0], py[iev][status[iev]==0], pz[iev][status[iev]==0]"
   ]
  },
  {
   "cell_type": "code",
   "execution_count": 10,
   "metadata": {},
   "outputs": [
    {
     "data": {
      "text/plain": [
       "array([-167.1257  , -214.65799 , -176.49841 ,  174.88638 , -458.63724 ,\n",
       "        119.22206 ,  102.378525,  398.49982 ,  -74.801445, -621.79663 ,\n",
       "       -641.7216  , -618.42194 , -618.4218  , -618.42175 , -618.4221  ,\n",
       "       -618.42346 , -618.42645 , -618.431   , -618.4337  , -618.4377  ,\n",
       "       -618.4398  , -618.4397  , -571.77734 , -564.081   , -571.2299  ,\n",
       "       -571.5589  , -543.7478  , -553.9932  , -548.7302  , -539.1685  ,\n",
       "       -564.6984  , -551.46765 , -563.807   , -544.3718  , -540.527   ,\n",
       "       -540.55414 , -540.8153  , -540.8193  , -540.8652  , -540.7636  ,\n",
       "       -540.8193  , -540.8494  , -534.0507  , -534.0508  , -534.0509  ,\n",
       "       -534.05096 , -534.0511  , -534.05115 , -534.0512  , -534.05133 ,\n",
       "       -534.0515  , -534.05164 , -534.0518  , -534.05206 , -534.0522  ,\n",
       "       -534.0522  , -534.05225 , -534.05237 , -551.6684  , -551.67474 ,\n",
       "       -551.67554 , -551.6708  , -551.6645  , -551.66095 , -571.0517  ,\n",
       "         99.258644, -290.66226 ,   -5.22025 ,  462.66574 ,  441.82574 ,\n",
       "       -642.2896  , -642.2593  , -642.21655 , -642.1741  , -642.1412  ,\n",
       "       -642.08105 , -642.0185  , -641.9621  , -308.01456 , -309.0367  ,\n",
       "       -605.39667 ,  259.1721  ,  248.40056 ], dtype=float32)"
      ]
     },
     "execution_count": 10,
     "metadata": {},
     "output_type": "execute_result"
    }
   ],
   "source": [
    "np.array(hits[iev][\"positionedHits_IT_endcap/positionedHits_IT_endcap.position.x\"])"
   ]
  },
  {
   "cell_type": "code",
   "execution_count": 11,
   "metadata": {},
   "outputs": [
    {
     "data": {
      "text/plain": [
       "array([ 115.29196 ,  304.07462 ,  350.78525 , -607.429   ,  315.48996 ,\n",
       "        314.76086 ,  110.30814 ,  108.177315,  113.004585,  109.531975,\n",
       "        113.87411 ,  111.38967 ,  113.19292 ,  113.21485 ,  126.9185  ,\n",
       "        129.43712 ,  399.9185  ,  666.3481  ,  105.609825,  313.83167 ,\n",
       "        497.3538  ,   64.95284 ,  232.48676 ,   82.61061 , -129.31953 ,\n",
       "       -382.63162 , -425.14532 ,  -38.535793,  -80.38502 ,  -16.58408 ,\n",
       "       -101.103004, -329.7367  , -574.5681  , -670.0393  , -627.8551  ,\n",
       "       -670.05664 , -629.022   , -670.0633  , -631.4624  , -669.85956 ,\n",
       "       -632.7701  , -669.89923 , -633.2771  , -669.7597  , -633.82416 ,\n",
       "       -669.42065 , -633.85236 , -669.0922  , -635.018   , -668.8227  ,\n",
       "       -635.79877 , -633.6418  , -665.8087  , -635.1567  , -665.6196  ,\n",
       "       -635.785   , -633.5828  , -665.0308  , -635.16    , -664.7807  ,\n",
       "       -636.6342  , -636.6013  , -664.35254 , -638.0876  , -663.9838  ,\n",
       "       -638.46655 , -638.4538  , -663.6475  , -639.8418  , -663.3056  ,\n",
       "       -660.76447 , -662.1352  , -660.1308  , -661.5081  , -660.3736  ,\n",
       "       -661.4863  , -660.3472  , -661.1582  , -661.25586 , -660.6764  ,\n",
       "       -660.6386  , -660.59796 , -660.2073  , -660.22766 , -660.24207 ,\n",
       "       -660.2607  , -660.288   , -660.30457 , -636.6013  , -636.5778  ,\n",
       "       -636.5589  , -670.05566 , -670.5385  , -670.4778  , -670.43677 ,\n",
       "       -670.45105 , -670.46875 , -670.4804  , -670.49554 , -670.5096  ,\n",
       "       -670.51917 , -670.52356 , -670.5229  , -670.5222  , -670.52014 ,\n",
       "       -670.51843 , -670.521   , -670.53546 , -670.54816 , -670.56616 ,\n",
       "       -670.5656  , -670.5649  , -670.5648  , -670.5649  , -670.5649  ,\n",
       "       -670.56494 , -670.56537 , -670.5658  , -670.5665  , -670.51605 ,\n",
       "       -670.50415 , -670.4981  , -670.4964  , -670.49335 , -670.4938  ,\n",
       "       -670.4948  , -670.49005 , -670.4768  , -670.4592  , -670.4422  ,\n",
       "       -670.43286 , -670.42914 , -670.42114 , -670.41345 , -670.4137  ,\n",
       "       -670.41455 , -670.416   , -670.41736 , -670.41895 , -670.4215  ,\n",
       "       -670.4239  , -670.42505 , -670.42426 , -670.4193  , -670.0393  ,\n",
       "       -621.4747  , -670.11066 , -623.0752  , -670.1693  , -626.1934  ,\n",
       "       -670.226   , -628.3577  , -670.328   , -629.0845  , -670.42896 ,\n",
       "       -629.9043  , -663.83826 , -663.9234  , -663.4528  , -663.4353  ,\n",
       "       -663.42236 , -663.4078  , -663.3905  , -663.3665  , -663.3562  ,\n",
       "       -663.34546 , -391.8903  , -662.0898  , -391.89014 , -634.16534 ,\n",
       "        127.61797 ,  394.60217 ,  661.8131  ,  126.9185  ,  395.612   ,\n",
       "        657.35126 ,  102.43259 ,  332.85333 ,  581.775   , -118.02228 ,\n",
       "       -387.49417 , -665.36444 , -126.9185  , -402.4185  , -672.4185  ,\n",
       "       -110.786674, -298.20068 , -376.83035 ,  124.13437 ,  381.32767 ,\n",
       "        638.20337 , -117.74292 , -361.2603  , -582.76544 ,  -89.941086,\n",
       "        -92.02663 , -355.19315 , -358.03418 , -665.27563 , -123.764305,\n",
       "       -376.42175 , -622.20337 , -125.665276, -322.2984  , -241.15172 ,\n",
       "        291.84967 , -124.57285 , -385.8792  , -641.4985  ], dtype=float32)"
      ]
     },
     "execution_count": 11,
     "metadata": {},
     "output_type": "execute_result"
    }
   ],
   "source": [
    "np.array(hits[iev][\"positionedHits_IT_barrel/positionedHits_IT_barrel.position.x\"])"
   ]
  },
  {
   "cell_type": "code",
   "execution_count": 12,
   "metadata": {},
   "outputs": [
    {
     "data": {
      "text/plain": [
       "array([ -102.79117,  -133.10242,  -468.699  ,   969.13995,  1375.6562 ,\n",
       "        1430.9056 ,  1428.1259 ,   911.07825,   980.22253,  1267.6156 ,\n",
       "        -891.3472 , -1490.7894 , -2107.2097 ,  -991.5724 , -1571.3695 ,\n",
       "       -2108.8235 ,  -669.82477,  -657.9332 ,   992.54675,  1557.3978 ,\n",
       "        2127.7708 ,   955.73413,  1422.9794 ,  1776.0978 ,   910.7937 ,\n",
       "        1508.8483 ,  2127.3555 ,  -996.57874, -1437.0189 ,   572.4236 ,\n",
       "         571.7197 ,  -998.0985 , -1444.3662 ,  -997.1117 , -1563.8744 ,\n",
       "       -2118.457  , -2094.7969 , -1295.0525 ,  -230.78902,   946.832  ,\n",
       "        1466.064  ,  1974.5072 ,  -822.5465 , -1152.8933 , -1330.8871 ,\n",
       "       -1578.3698 , -1578.36   , -1578.3484 , -1578.3279 , -1578.3069 ,\n",
       "       -1578.2926 ,  -910.4857 , -1378.2731 , -1804.7434 ,   233.48941,\n",
       "         715.4705 ,   715.39355,  -953.95355, -1492.3214 , -2035.8916 ],\n",
       "      dtype=float32)"
      ]
     },
     "execution_count": 12,
     "metadata": {},
     "output_type": "execute_result"
    }
   ],
   "source": [
    "np.array(hits[iev][\"positionedHits_OT_barrel/positionedHits_OT_barrel.position.x\"])"
   ]
  },
  {
   "cell_type": "code",
   "execution_count": 13,
   "metadata": {},
   "outputs": [
    {
     "data": {
      "text/plain": [
       "array([ -208.59395 ,  -208.5816  ,  -729.08496 ,  -729.09753 ,\n",
       "        -729.1086  ,  -729.1188  ,  -729.1253  ,  -729.1369  ,\n",
       "        -729.1413  ,  -729.14624 ,    79.049866,    79.0518  ,\n",
       "          80.88306 ,    93.03808 ,    93.04511 ,    93.05352 ,\n",
       "          93.05995 ,    93.0436  ,    93.03065 ,    93.02224 ,\n",
       "          93.01532 ,    93.011444, -1957.908   , -1957.9103  ,\n",
       "       -1957.9143  , -1957.914   , -1957.9158  , -1957.919   ,\n",
       "        -112.93811 ,  -112.92631 ,  -112.91428 ,  -112.91358 ,\n",
       "        -112.91429 ,  -112.91113 ,  -112.90352 ,  -112.89253 ,\n",
       "        -112.88578 ,  -112.86496 ,  -112.84472 ,  -112.82665 ,\n",
       "        -112.810524,  -112.80125 ,  -112.7883  ,  -112.79518 ,\n",
       "        -112.79264 , -1310.3773  ,  -803.831   ,  -792.7086  ,\n",
       "        -765.00085 ,  -897.81726 ,  -711.2313  ,  -245.67627 ,\n",
       "        -379.3471  ,   451.9436  ,   799.2584  ,   872.1538  ,\n",
       "        -829.0874  ,  -607.5655  ,  -598.8223  ,   178.21019 ,\n",
       "        1326.9976  ,  1326.995   ,  1326.9945  ,  1327.0027  ,\n",
       "        1327.0128  ,  1327.0223  ,  1327.0314  ,  1327.0375  ,\n",
       "        1327.0403  ,  1327.0411  ,  1327.0397  ,  1327.0374  ,\n",
       "        1327.0364  ], dtype=float32)"
      ]
     },
     "execution_count": 13,
     "metadata": {},
     "output_type": "execute_result"
    }
   ],
   "source": [
    "np.array(hits[iev][\"positionedHits_OT_endcap/positionedHits_OT_endcap.position.x\"])"
   ]
  },
  {
   "cell_type": "code",
   "execution_count": 14,
   "metadata": {},
   "outputs": [
    {
     "data": {
      "text/plain": [
       "Text(0.5, 1.0, 'FCCee, ee->Z->ddbar, CLD Geant sim')"
      ]
     },
     "execution_count": 14,
     "metadata": {},
     "output_type": "execute_result"
    },
    {
     "data": {
      "image/png": "[encoded data removed]",
      "text/plain": [
       "<Figure size 720x720 with 1 Axes>"
      ]
     },
     "metadata": {
      "needs_background": "light"
     },
     "output_type": "display_data"
    }
   ],
   "source": [
    "plt.figure(figsize=(10, 10))\n",
    "\n",
    "plt.scatter(\n",
    "    hits[iev][\"positionedHits_HcalBarrel/positionedHits_HcalBarrel.position.x\"],\n",
    "    hits[iev][\"positionedHits_HcalBarrel/positionedHits_HcalBarrel.position.y\"],\n",
    "    s=10000*hits[iev][\"positionedHits_HcalBarrel/positionedHits_HcalBarrel.core.energy\"],\n",
    "    label=\"HCAL\"\n",
    ")\n",
    "\n",
    "plt.scatter(\n",
    "    hits[iev][\"positionedHits_EcalBarrel/positionedHits_EcalBarrel.position.x\"],\n",
    "    hits[iev][\"positionedHits_EcalBarrel/positionedHits_EcalBarrel.position.y\"],\n",
    "    s=10000*hits[iev][\"positionedHits_EcalBarrel/positionedHits_EcalBarrel.core.energy\"],\n",
    "    label=\"ECAL\"\n",
    ")\n",
    "\n",
    "plt.scatter(\n",
    "    hits[iev][\"positionedHits_IT_barrel/positionedHits_IT_barrel.position.x\"],\n",
    "    hits[iev][\"positionedHits_IT_barrel/positionedHits_IT_barrel.position.y\"],\n",
    "    s=10000*hits[iev][\"positionedHits_IT_barrel/positionedHits_IT_barrel.core.energy\"],\n",
    "    label=\"InnerTracker barrel\"\n",
    ")\n",
    "\n",
    "plt.scatter(\n",
    "    hits[iev][\"positionedHits_OT_barrel/positionedHits_OT_barrel.position.x\"],\n",
    "    hits[iev][\"positionedHits_OT_barrel/positionedHits_OT_barrel.position.y\"],\n",
    "    s=10000*hits[iev][\"positionedHits_OT_barrel/positionedHits_OT_barrel.core.energy\"],\n",
    "    label=\"OuterTracker barrel\"\n",
    ")\n",
    "\n",
    "plt.scatter(\n",
    "    hits[iev][\"positionedHits_IT_endcap/positionedHits_IT_endcap.position.x\"],\n",
    "    hits[iev][\"positionedHits_IT_endcap/positionedHits_IT_endcap.position.y\"],\n",
    "    s=10000*hits[iev][\"positionedHits_IT_endcap/positionedHits_IT_endcap.core.energy\"],\n",
    "    label=\"InnerTracker endcap\"\n",
    ")\n",
    "\n",
    "plt.scatter(\n",
    "    hits[iev][\"positionedHits_OT_endcap/positionedHits_OT_endcap.position.x\"],\n",
    "    hits[iev][\"positionedHits_OT_endcap/positionedHits_OT_endcap.position.y\"],\n",
    "    s=10000*hits[iev][\"positionedHits_OT_endcap/positionedHits_OT_endcap.core.energy\"],\n",
    "    label=\"OuterTracker endcap\"\n",
    ")\n",
    "\n",
    "plt.legend()\n",
    "plt.xlim(-4000, 4000)\n",
    "plt.ylim(-4000, 4000)\n",
    "plt.title(\"FCCee, ee->Z->ddbar, CLD Geant sim\")"
   ]
  },
  {
   "cell_type": "code",
   "execution_count": 15,
   "metadata": {},
   "outputs": [],
   "source": [
    "iev = 0"
   ]
  },
  {
   "cell_type": "code",
   "execution_count": 16,
   "metadata": {},
   "outputs": [
    {
     "data": {
      "text/plain": [
       "(<Array [-0.0399, -0.0975, ... 0, -0.00703] type='38 * float32'>,\n",
       " <Array [-0.271, -0.775, -1.35, ... 0, -0.00138] type='38 * float32'>)"
      ]
     },
     "execution_count": 16,
     "metadata": {},
     "output_type": "execute_result"
    }
   ],
   "source": [
    "px[iev][status[iev]==0], py[iev][status[iev]==0]"
   ]
  },
  {
   "cell_type": "code",
   "execution_count": null,
   "metadata": {},
   "outputs": [],
   "source": []
  }
 ],
 "metadata": {
  "kernelspec": {
   "display_name": "Python 3",
   "language": "python",
   "name": "python3"
  },
  "language_info": {
   "codemirror_mode": {
    "name": "ipython",
    "version": 3
   },
   "file_extension": ".py",
   "mimetype": "text/x-python",
   "name": "python",
   "nbconvert_exporter": "python",
   "pygments_lexer": "ipython3",
   "version": "3.8.5"
  }
 },
 "nbformat": 4,
 "nbformat_minor": 4
}
